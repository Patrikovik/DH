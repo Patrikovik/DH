{
  "nbformat": 4,
  "nbformat_minor": 0,
  "metadata": {
    "colab": {
      "name": "Covid.ipynb",
      "provenance": [],
      "authorship_tag": "ABX9TyNTkkqkNKiZt5aY2cLFj8u6",
      "include_colab_link": true
    },
    "kernelspec": {
      "name": "python3",
      "display_name": "Python 3"
    }
  },
  "cells": [
    {
      "cell_type": "markdown",
      "metadata": {
        "id": "view-in-github",
        "colab_type": "text"
      },
      "source": [
        "<a href=\"https://colab.research.google.com/github/Patrikovik/DH/blob/master/Covid_Regress%C3%A3o_VS_SVR.ipynb\" target=\"_parent\"><img src=\"https://colab.research.google.com/assets/colab-badge.svg\" alt=\"Open In Colab\"/></a>"
      ]
    },
    {
      "cell_type": "code",
      "metadata": {
        "id": "hPpdqql7FIHV",
        "colab_type": "code",
        "colab": {}
      },
      "source": [
        "import pandas as pd \n",
        "\n",
        "dados_covid = pd.read_csv('https://gist.githubusercontent.com/Patrikovik/bcea8148ab0a2d8ec9dfe2086911e950/raw/4beeee978f49e6f1e8ea7ac92e6d057e8787a710/report.csv')\n",
        "X = dados_covid['CASOS']\n",
        "y = dados_covid['OBITOS']"
      ],
      "execution_count": 0,
      "outputs": []
    },
    {
      "cell_type": "code",
      "metadata": {
        "id": "0qqI7gJQPHRH",
        "colab_type": "code",
        "colab": {
          "base_uri": "https://localhost:8080/",
          "height": 168
        },
        "outputId": "a0f772d3-5056-4065-ac55-162c5986cdea"
      },
      "source": [
        "X.describe()"
      ],
      "execution_count": 12,
      "outputs": [
        {
          "output_type": "execute_result",
          "data": {
            "text/plain": [
              "count     4190.000000\n",
              "mean       132.549642\n",
              "std       1316.477775\n",
              "min          1.000000\n",
              "25%          3.000000\n",
              "50%         11.000000\n",
              "75%         46.000000\n",
              "max      64443.000000\n",
              "Name: CASOS, dtype: float64"
            ]
          },
          "metadata": {
            "tags": []
          },
          "execution_count": 12
        }
      ]
    },
    {
      "cell_type": "code",
      "metadata": {
        "id": "rPflS_zjPHdV",
        "colab_type": "code",
        "colab": {
          "base_uri": "https://localhost:8080/",
          "height": 168
        },
        "outputId": "b121e597-b027-4472-81dd-286e40f46c21"
      },
      "source": [
        "y.describe()"
      ],
      "execution_count": 13,
      "outputs": [
        {
          "output_type": "execute_result",
          "data": {
            "text/plain": [
              "count    4190.000000\n",
              "mean        7.446062\n",
              "std       104.735030\n",
              "min         0.000000\n",
              "25%         0.000000\n",
              "50%         0.000000\n",
              "75%         1.000000\n",
              "max      4443.000000\n",
              "Name: OBITOS, dtype: float64"
            ]
          },
          "metadata": {
            "tags": []
          },
          "execution_count": 13
        }
      ]
    },
    {
      "cell_type": "code",
      "metadata": {
        "id": "Egpbm7jpFmSg",
        "colab_type": "code",
        "colab": {}
      },
      "source": [
        "from sklearn.model_selection import train_test_split\n",
        "from sklearn.metrics import mean_squared_error, r2_score\n",
        "import numpy as np\n",
        "np.random.seed(43267)\n",
        "\n",
        "X_treino,X_teste, y_treino , y_teste = train_test_split(X,y)"
      ],
      "execution_count": 0,
      "outputs": []
    },
    {
      "cell_type": "code",
      "metadata": {
        "id": "dkgGvyIvGliq",
        "colab_type": "code",
        "colab": {
          "base_uri": "https://localhost:8080/",
          "height": 34
        },
        "outputId": "63cde004-f610-422d-9842-40086ff1de66"
      },
      "source": [
        "from sklearn import linear_model\n",
        "reg = linear_model.LinearRegression()\n",
        "X_treino_np = np.array(X_treino).reshape(-1, 1)\n",
        "y_treino_np = np.array(y_treino).reshape(-1, 1)\n",
        "y_teste_np = np.array(y_teste).reshape(-1,1)\n",
        "X_teste_np = np.array(X_teste).reshape(-1,1)\n",
        "reg.fit(X_treino_np,y_treino_np)"
      ],
      "execution_count": 15,
      "outputs": [
        {
          "output_type": "execute_result",
          "data": {
            "text/plain": [
              "LinearRegression(copy_X=True, fit_intercept=True, n_jobs=None, normalize=False)"
            ]
          },
          "metadata": {
            "tags": []
          },
          "execution_count": 15
        }
      ]
    },
    {
      "cell_type": "code",
      "metadata": {
        "id": "nsytMeFFI2HI",
        "colab_type": "code",
        "colab": {}
      },
      "source": [
        "y_predict = reg.predict(X_teste_np)"
      ],
      "execution_count": 0,
      "outputs": []
    },
    {
      "cell_type": "code",
      "metadata": {
        "id": "fywJgMsZJaMT",
        "colab_type": "code",
        "colab": {
          "base_uri": "https://localhost:8080/",
          "height": 34
        },
        "outputId": "5d07c2a9-9851-41c1-905f-91999353c6be"
      },
      "source": [
        "reg.predict([[526]])"
      ],
      "execution_count": 17,
      "outputs": [
        {
          "output_type": "execute_result",
          "data": {
            "text/plain": [
              "array([[37.60243444]])"
            ]
          },
          "metadata": {
            "tags": []
          },
          "execution_count": 17
        }
      ]
    },
    {
      "cell_type": "code",
      "metadata": {
        "id": "wEBGeXpiJnnV",
        "colab_type": "code",
        "colab": {
          "base_uri": "https://localhost:8080/",
          "height": 578
        },
        "outputId": "d6249b73-33a7-467a-c0cf-e61e5495b970"
      },
      "source": [
        "from matplotlib import pyplot as plt\n",
        "plt.figure(figsize=(10,10))\n",
        "plt.scatter(X_teste_np, y_teste_np,  color='black')\n",
        "plt.plot(X_teste_np, y_predict, color='blue', linewidth=3)\n",
        "\n",
        "plt.xticks(())\n",
        "plt.yticks(())\n",
        "\n",
        "plt.show()"
      ],
      "execution_count": 29,
      "outputs": [
        {
          "output_type": "display_data",
          "data": {
            "image/png": "[encoded data removed]",
            "text/plain": [
              "<Figure size 720x720 with 1 Axes>"
            ]
          },
          "metadata": {
            "tags": []
          }
        }
      ]
    },
    {
      "cell_type": "code",
      "metadata": {
        "id": "o5hKDysULXUD",
        "colab_type": "code",
        "colab": {
          "base_uri": "https://localhost:8080/",
          "height": 50
        },
        "outputId": "15be0bd8-f055-4fd2-ea6b-02dce99e10b9"
      },
      "source": [
        "print('Mean squared error: %.2f'\n",
        "      % mean_squared_error(y_teste_np, y_predict_svr))\n",
        "# The coefficient of determination: 1 is perfect prediction\n",
        "print('Coefficient of determination: %.2f'\n",
        "      % r2_score(y_teste_np, y_predict))"
      ],
      "execution_count": 27,
      "outputs": [
        {
          "output_type": "stream",
          "text": [
            "Mean squared error: 980.93\n",
            "Coefficient of determination: 0.62\n"
          ],
          "name": "stdout"
        }
      ]
    },
    {
      "cell_type": "code",
      "metadata": {
        "id": "VpJNMYAaMQj_",
        "colab_type": "code",
        "colab": {
          "base_uri": "https://localhost:8080/",
          "height": 154
        },
        "outputId": "e613b318-68d1-44d7-a55f-32615990f07a"
      },
      "source": [
        "from sklearn.svm import LinearSVR\n",
        "\n",
        "modelo = LinearSVR(max_iter = 10000)\n",
        "modelo.fit(X_treino_np,y_treino_np)\n"
      ],
      "execution_count": 20,
      "outputs": [
        {
          "output_type": "stream",
          "text": [
            "/usr/local/lib/python3.6/dist-packages/sklearn/utils/validation.py:760: DataConversionWarning: A column-vector y was passed when a 1d array was expected. Please change the shape of y to (n_samples, ), for example using ravel().\n",
            "  y = column_or_1d(y, warn=True)\n",
            "/usr/local/lib/python3.6/dist-packages/sklearn/svm/_base.py:947: ConvergenceWarning: Liblinear failed to converge, increase the number of iterations.\n",
            "  \"the number of iterations.\", ConvergenceWarning)\n"
          ],
          "name": "stderr"
        },
        {
          "output_type": "execute_result",
          "data": {
            "text/plain": [
              "LinearSVR(C=1.0, dual=True, epsilon=0.0, fit_intercept=True,\n",
              "          intercept_scaling=1.0, loss='epsilon_insensitive', max_iter=10000,\n",
              "          random_state=None, tol=0.0001, verbose=0)"
            ]
          },
          "metadata": {
            "tags": []
          },
          "execution_count": 20
        }
      ]
    },
    {
      "cell_type": "code",
      "metadata": {
        "id": "Zz7_cc_oNtcC",
        "colab_type": "code",
        "colab": {}
      },
      "source": [
        "y_predict_svr = modelo.predict(X_teste_np)"
      ],
      "execution_count": 0,
      "outputs": []
    },
    {
      "cell_type": "code",
      "metadata": {
        "id": "ZTkSwoohOJUO",
        "colab_type": "code",
        "colab": {
          "base_uri": "https://localhost:8080/",
          "height": 578
        },
        "outputId": "4ab98d8a-d3d7-4dea-a149-b0f504df7755"
      },
      "source": [
        "plt.figure(figsize=(10,10))\n",
        "plt.scatter(X_teste_np, y_teste_np,  color='black')\n",
        "plt.plot(X_teste_np, y_predict_svr, color='blue', linewidth=3)\n",
        "\n",
        "plt.xticks(())\n",
        "plt.yticks(())\n",
        "\n",
        "plt.show()"
      ],
      "execution_count": 22,
      "outputs": [
        {
          "output_type": "display_data",
          "data": {
            "image/png": "[encoded data removed]",
            "text/plain": [
              "<Figure size 720x720 with 1 Axes>"
            ]
          },
          "metadata": {
            "tags": []
          }
        }
      ]
    },
    {
      "cell_type": "code",
      "metadata": {
        "id": "e6R27Hv5OPPS",
        "colab_type": "code",
        "colab": {
          "base_uri": "https://localhost:8080/",
          "height": 50
        },
        "outputId": "af9b4db1-1dba-4761-bfd6-f5540987f805"
      },
      "source": [
        "### MÉTRICAS DO MODELO DE SVR\n",
        "print('Mean squared error: %.2f'\n",
        "      % mean_squared_error(y_teste_np, y_predict_svr))\n",
        "# The coefficient of determination: 1 is perfect prediction\n",
        "print('Coefficient of determination: %.2f'\n",
        "      % r2_score(y_teste_np, y_predict_svr))"
      ],
      "execution_count": 23,
      "outputs": [
        {
          "output_type": "stream",
          "text": [
            "Mean squared error: 980.93\n",
            "Coefficient of determination: 0.48\n"
          ],
          "name": "stdout"
        }
      ]
    },
    {
      "cell_type": "code",
      "metadata": {
        "id": "GszJBbiYOWxQ",
        "colab_type": "code",
        "colab": {
          "base_uri": "https://localhost:8080/",
          "height": 34
        },
        "outputId": "5a7f8e73-a8c4-4163-cf8c-2c5df866e1c9"
      },
      "source": [
        "## Modelo de Regressão:\n",
        "reg.predict([[600]])\n"
      ],
      "execution_count": 24,
      "outputs": [
        {
          "output_type": "execute_result",
          "data": {
            "text/plain": [
              "array([[43.26925799]])"
            ]
          },
          "metadata": {
            "tags": []
          },
          "execution_count": 24
        }
      ]
    },
    {
      "cell_type": "code",
      "metadata": {
        "id": "5W7GBjz7OsQ0",
        "colab_type": "code",
        "colab": {
          "base_uri": "https://localhost:8080/",
          "height": 34
        },
        "outputId": "866f2c27-0c4c-4c33-bfdd-04e23aba8892"
      },
      "source": [
        "modelo.predict([[523]])"
      ],
      "execution_count": 25,
      "outputs": [
        {
          "output_type": "execute_result",
          "data": {
            "text/plain": [
              "array([15.69398458])"
            ]
          },
          "metadata": {
            "tags": []
          },
          "execution_count": 25
        }
      ]
    },
    {
      "cell_type": "code",
      "metadata": {
        "id": "Xc0993q4OxI4",
        "colab_type": "code",
        "colab": {}
      },
      "source": [
        ""
      ],
      "execution_count": 0,
      "outputs": []
    }
  ]
}